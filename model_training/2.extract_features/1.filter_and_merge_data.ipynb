{
 "cells": [
  {
   "cell_type": "code",
   "execution_count": 1,
   "metadata": {},
   "outputs": [],
   "source": [
    "# author=cxf\n",
    "# date=2020-8-8\n",
    "# file for filter and merge samples from run1 and run2\n",
    "\n",
    "import numpy as np\n",
    "import pandas as pd\n",
    "\n",
    "# get cutoff\n",
    "df_90_r1 = pd.read_csv('../1.cutoff_setting/run1/90_result.txt', index_col=0)\n",
    "df_95_r1 = pd.read_csv('../1.cutoff_setting/run1/95_result.txt', index_col=0)\n",
    "df_99_r1 = pd.read_csv('../1.cutoff_setting/run1/99_result.txt', index_col=0)\n",
    "df_90_r2 = pd.read_csv('../1.cutoff_setting/run2/90_result.txt', index_col=0)\n",
    "df_95_r2 = pd.read_csv('../1.cutoff_setting/run2/95_result.txt', index_col=0)\n",
    "df_99_r2 = pd.read_csv('../1.cutoff_setting/run2/99_result.txt', index_col=0)\n",
    "\n",
    "\n",
    "# remove samples whose least error rate does not meet criterion\n",
    "df_90_r1 = df_90_r1[df_99_r1['max_num'] != 0]\n",
    "df_95_r1 = df_95_r1[df_99_r1['max_num'] != 0]\n",
    "df_99_r1 = df_99_r1[df_99_r1['max_num'] != 0]\n",
    "\n",
    "df_90_r2 = df_90_r2[df_99_r2['max_num'] != 0]\n",
    "df_95_r2 = df_95_r2[df_99_r2['max_num'] != 0]\n",
    "df_99_r2 = df_99_r2[df_99_r2['max_num'] != 0]\n",
    "\n",
    "# merge inputs and outputs of model\n",
    "df_all_output = pd.concat([df_90_r1, df_95_r1, df_99_r1,\n",
    "                           df_90_r2, df_95_r2, df_99_r2\n",
    "                           ])\n",
    "\n",
    "\n",
    "\n",
    "# only retain features users can provide to model and cutoff we expected\n",
    "pick_list = ['precise','max_cutoff']\n",
    "df_all_output=df_all_output[pick_list]\n",
    "df_all_output.to_csv('train_data_run1_run2.csv')"
   ]
  },
  {
   "cell_type": "code",
   "execution_count": 2,
   "metadata": {},
   "outputs": [
    {
     "name": "stdout",
     "output_type": "stream",
     "text": [
      "           precise  max_cutoff\n",
      "sample                        \n",
      "sample107       90           1\n",
      "sample105       90           1\n",
      "sample103       90           0\n",
      "sample108       90           0\n",
      "sample106       90           0\n",
      "...            ...         ...\n",
      "sample299       99           2\n",
      "sample301       99           2\n",
      "sample300       99           1\n",
      "sample302       99           1\n",
      "sample303       99           1\n",
      "\n",
      "[792 rows x 2 columns]\n"
     ]
    }
   ],
   "source": [
    "print(df_all_output)"
   ]
  },
  {
   "cell_type": "code",
   "execution_count": null,
   "metadata": {},
   "outputs": [],
   "source": []
  }
 ],
 "metadata": {
  "kernelspec": {
   "display_name": "Python 3",
   "language": "python",
   "name": "python3"
  },
  "language_info": {
   "codemirror_mode": {
    "name": "ipython",
    "version": 3
   },
   "file_extension": ".py",
   "mimetype": "text/x-python",
   "name": "python",
   "nbconvert_exporter": "python",
   "pygments_lexer": "ipython3",
   "version": "3.6.10"
  }
 },
 "nbformat": 4,
 "nbformat_minor": 2
}
