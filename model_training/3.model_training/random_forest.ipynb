{
 "cells": [
  {
   "cell_type": "code",
   "execution_count": 1,
   "metadata": {},
   "outputs": [
    {
     "name": "stdout",
     "output_type": "stream",
     "text": [
      "{'max_depth': 4, 'n_estimators': 50}\n",
      "0.7945876655747045\n",
      "RandomForestClassifier(max_depth=4, n_estimators=50, random_state=999)\n"
     ]
    }
   ],
   "source": [
    "# author=cxf\n",
    "# date=2020-8-8\n",
    "# file for model training\n",
    "# import warnings filter\n",
    "from warnings import simplefilter\n",
    "\n",
    "# ignore all future warnings\n",
    "simplefilter(action='ignore')\n",
    "\n",
    "import pandas as pd\n",
    "import numpy as np\n",
    "import sklearn.model_selection as ms\n",
    "import sklearn.ensemble as se\n",
    "import matplotlib.pyplot as mp\n",
    "import sklearn.utils as su\n",
    "\n",
    "# get features and expected cutoff\n",
    "df_input = pd.read_csv('../2.extract_features/input_run1_run2.csv', index_col=0)\n",
    "df_output = pd.read_csv('../2.extract_features/output_run1_run2.csv', index_col=0)\n",
    "y = df_output['max_cutoff']\n",
    "x = df_input\n",
    "header = x.columns\n",
    "\n",
    "# shuffle the data\n",
    "x, y = su.shuffle(x, y, random_state=999)\n",
    "train_size = int(len(x) * 0.75)\n",
    "# divide data into train set and test set by 3:1\n",
    "train_x, test_x, train_y, test_y = \\\n",
    "    x[:train_size], x[train_size:], \\\n",
    "    y[:train_size], y[train_size:]\n",
    "\n",
    "# train model and get the best params by grid search\n",
    "model = se.RandomForestClassifier(max_depth=4, n_estimators=150, random_state=999)\n",
    "model = ms.GridSearchCV(model, [{'max_depth': range(1, 6, 1), 'n_estimators': range(10, 200, 10)}], cv=5)\n",
    "model.fit(train_x, train_y)\n",
    "\n",
    "\n",
    "print(model.best_params_)\n",
    "print(model.best_score_)\n",
    "print(model.best_estimator_)"
   ]
  },
  {
   "cell_type": "code",
   "execution_count": 2,
   "metadata": {},
   "outputs": [
    {
     "name": "stdout",
     "output_type": "stream",
     "text": [
      "5x cross validation mean score :0.7639587318727842\n",
      "confusion matrix\n",
      "[[  0  10   0   0   0   0   0   0]\n",
      " [  0 102   5   0   0   0   0   0]\n",
      " [  0  15  42   0   0   0   0   0]\n",
      " [  0   2  12   3   0   0   0   0]\n",
      " [  0   1   3   0   0   0   0   0]\n",
      " [  0   1   0   0   0   0   0   0]\n",
      " [  0   1   0   0   0   0   0   0]\n",
      " [  0   0   1   0   0   0   0   0]]\n",
      "classification_report\n",
      "              precision    recall  f1-score   support\n",
      "\n",
      "           0       0.00      0.00      0.00        10\n",
      "           1       0.77      0.95      0.85       107\n",
      "           2       0.67      0.74      0.70        57\n",
      "           3       1.00      0.18      0.30        17\n",
      "           4       0.00      0.00      0.00         4\n",
      "           5       0.00      0.00      0.00         1\n",
      "           6       0.00      0.00      0.00         1\n",
      "          10       0.00      0.00      0.00         1\n",
      "\n",
      "    accuracy                           0.74       198\n",
      "   macro avg       0.30      0.23      0.23       198\n",
      "weighted avg       0.70      0.74      0.69       198\n",
      "\n"
     ]
    }
   ],
   "source": [
    "import pandas as pd\n",
    "import numpy as np\n",
    "import sklearn.model_selection as ms\n",
    "import sklearn.ensemble as se\n",
    "import matplotlib.pyplot as mp\n",
    "import sklearn.utils as su\n",
    "from sklearn import metrics \n",
    "\n",
    "\n",
    "# get features and expected cutoff\n",
    "df_input = pd.read_csv('../2.extract_features/input_run1_run2.csv', index_col=0)\n",
    "df_output = pd.read_csv('../2.extract_features/output_run1_run2.csv', index_col=0)\n",
    "y = df_output['max_cutoff']\n",
    "x = df_input\n",
    "header = x.columns\n",
    "\n",
    "# shuffle the data\n",
    "x, y = su.shuffle(x, y, random_state=999)\n",
    "train_size = int(len(x) * 0.75)\n",
    "# divide data into train set and test set by 3:1\n",
    "train_x, test_x, train_y, test_y = \\\n",
    "    x[:train_size], x[train_size:], \\\n",
    "    y[:train_size], y[train_size:]\n",
    "\n",
    "\n",
    "\n",
    "\n",
    "# set the model with best_params_ and validate function in test set\n",
    "model = se.RandomForestClassifier(max_depth=4, n_estimators=50, random_state=999)\n",
    "# 5x cross validate\n",
    "score = ms.cross_val_score(model, train_x, train_y, cv=5, scoring='f1_weighted')\n",
    "model.fit(train_x, train_y)\n",
    "print(f'5x cross validation mean score :{score.mean()}')\n",
    "# predict cutoff of test set\n",
    "pred_test_y = model.predict(test_x)\n",
    "# confusion matrix\n",
    "import sklearn.metrics as sm\n",
    "\n",
    "cm = sm.confusion_matrix(test_y, pred_test_y)\n",
    "print('confusion matrix')\n",
    "print(cm)\n",
    "\n",
    "# classification_report\n",
    "cr = sm.classification_report(test_y, pred_test_y)\n",
    "print('classification_report')\n",
    "print(cr)\n",
    "\n"
   ]
  },
  {
   "cell_type": "code",
   "execution_count": 3,
   "metadata": {},
   "outputs": [
    {
     "name": "stdout",
     "output_type": "stream",
     "text": [
      "the model has been saved\n"
     ]
    }
   ],
   "source": [
    "# save the model\n",
    "import pickle\n",
    "with open('RF_pick_cutoff.pkl', 'wb') as f:\n",
    "    pickle.dump(model, f)\n",
    "    print('the model has been saved')"
   ]
  },
  {
   "cell_type": "code",
   "execution_count": 4,
   "metadata": {},
   "outputs": [
    {
     "name": "stdout",
     "output_type": "stream",
     "text": [
      "confusion matrix\n",
      "[[  0  26   0   0   0   0   0   0   0]\n",
      " [  0 416  14   0   0   0   0   0   0]\n",
      " [  0  50 210   0   0   0   0   0   0]\n",
      " [  0   8  23  22   0   0   0   0   0]\n",
      " [  0   3  12   1   0   0   0   0   0]\n",
      " [  0   2   1   0   0   0   0   0   0]\n",
      " [  0   2   0   0   0   0   0   0   0]\n",
      " [  0   0   1   0   0   0   0   0   0]\n",
      " [  0   0   1   0   0   0   0   0   0]]\n",
      "classification_report\n",
      "              precision    recall  f1-score   support\n",
      "\n",
      "           0       0.00      0.00      0.00        26\n",
      "           1       0.82      0.97      0.89       430\n",
      "           2       0.80      0.81      0.80       260\n",
      "           3       0.96      0.42      0.58        53\n",
      "           4       0.00      0.00      0.00        16\n",
      "           5       0.00      0.00      0.00         3\n",
      "           6       0.00      0.00      0.00         2\n",
      "           7       0.00      0.00      0.00         1\n",
      "          10       0.00      0.00      0.00         1\n",
      "\n",
      "    accuracy                           0.82       792\n",
      "   macro avg       0.29      0.24      0.25       792\n",
      "weighted avg       0.77      0.82      0.78       792\n",
      "\n"
     ]
    }
   ],
   "source": [
    "# load the model and predict the data including train and test set\n",
    "# just take a test that the model can work\n",
    "with open('RF_pick_cutoff.pkl', 'rb') as f:\n",
    "    model=pickle.load(f)\n",
    "    pred_y = model.predict(df_input)\n",
    "    cm = sm.confusion_matrix(df_output, pred_y)\n",
    "    print('confusion matrix')\n",
    "    print(cm)\n",
    "\n",
    "    # classification_report\n",
    "    cr = sm.classification_report(df_output, pred_y)\n",
    "    print('classification_report')\n",
    "    print(cr)"
   ]
  },
  {
   "cell_type": "code",
   "execution_count": 5,
   "metadata": {},
   "outputs": [],
   "source": [
    "# save the predict result to assess the cutoff\n",
    "df_output['pred_cutoff']=pred_y\n",
    "df_output.to_csv('test_cutoff.csv')\n",
    "\n",
    "df_feature=df_input['precise']\n",
    "df_feature.to_csv('test_feature.csv',header=True)"
   ]
  },
  {
   "cell_type": "code",
   "execution_count": 6,
   "metadata": {},
   "outputs": [
    {
     "name": "stdout",
     "output_type": "stream",
     "text": [
      "           max_cutoff  pred_cutoff\n",
      "sample                            \n",
      "sample107           1            1\n",
      "sample105           1            1\n",
      "sample103           0            1\n",
      "sample108           0            1\n",
      "sample106           0            1\n",
      "...               ...          ...\n",
      "sample299           2            2\n",
      "sample301           2            2\n",
      "sample300           1            1\n",
      "sample302           1            1\n",
      "sample303           1            1\n",
      "\n",
      "[792 rows x 2 columns]\n"
     ]
    }
   ],
   "source": [
    "print(df_output)"
   ]
  },
  {
   "cell_type": "code",
   "execution_count": null,
   "metadata": {},
   "outputs": [],
   "source": []
  }
 ],
 "metadata": {
  "kernelspec": {
   "display_name": "Python 3",
   "language": "python",
   "name": "python3"
  },
  "language_info": {
   "codemirror_mode": {
    "name": "ipython",
    "version": 3
   },
   "file_extension": ".py",
   "mimetype": "text/x-python",
   "name": "python",
   "nbconvert_exporter": "python",
   "pygments_lexer": "ipython3",
   "version": "3.6.10"
  }
 },
 "nbformat": 4,
 "nbformat_minor": 2
}
