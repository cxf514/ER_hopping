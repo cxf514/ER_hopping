{
 "cells": [
  {
   "cell_type": "code",
   "execution_count": 1,
   "metadata": {},
   "outputs": [
    {
     "ename": "IndexError",
     "evalue": "boolean index did not match indexed array along dimension 0; dimension is 11 but corresponding boolean dimension is 10",
     "output_type": "error",
     "traceback": [
      "\u001b[0;31m---------------------------------------------------------------------------\u001b[0m",
      "\u001b[0;31mIndexError\u001b[0m                                Traceback (most recent call last)",
      "\u001b[0;32m<ipython-input-1-bd54ba71f782>\u001b[0m in \u001b[0;36m<module>\u001b[0;34m\u001b[0m\n\u001b[1;32m     38\u001b[0m     \u001b[0msite_info\u001b[0m \u001b[0;34m=\u001b[0m \u001b[0msites\u001b[0m\u001b[0;34m[\u001b[0m\u001b[0mi\u001b[0m\u001b[0;34m]\u001b[0m\u001b[0;34m\u001b[0m\u001b[0;34m\u001b[0m\u001b[0m\n\u001b[1;32m     39\u001b[0m     \u001b[0merror_info\u001b[0m \u001b[0;34m=\u001b[0m \u001b[0merror\u001b[0m\u001b[0;34m[\u001b[0m\u001b[0mi\u001b[0m\u001b[0;34m]\u001b[0m\u001b[0;34m\u001b[0m\u001b[0;34m\u001b[0m\u001b[0m\n\u001b[0;32m---> 40\u001b[0;31m     \u001b[0msite_info\u001b[0m\u001b[0;34m[\u001b[0m\u001b[0merror_info\u001b[0m \u001b[0;34m>\u001b[0m \u001b[0;36m0.02\u001b[0m\u001b[0;34m]\u001b[0m \u001b[0;34m=\u001b[0m \u001b[0;36m0\u001b[0m\u001b[0;34m\u001b[0m\u001b[0;34m\u001b[0m\u001b[0m\n\u001b[0m\u001b[1;32m     41\u001b[0m     \u001b[0mmax_index\u001b[0m \u001b[0;34m=\u001b[0m \u001b[0mnp\u001b[0m\u001b[0;34m.\u001b[0m\u001b[0margmax\u001b[0m\u001b[0;34m(\u001b[0m\u001b[0msite_info\u001b[0m\u001b[0;34m)\u001b[0m\u001b[0;34m\u001b[0m\u001b[0;34m\u001b[0m\u001b[0m\n\u001b[1;32m     42\u001b[0m     \u001b[0;32mif\u001b[0m \u001b[0merror_info\u001b[0m\u001b[0;34m[\u001b[0m\u001b[0mmax_index\u001b[0m\u001b[0;34m]\u001b[0m \u001b[0;34m>=\u001b[0m \u001b[0;36m0.02\u001b[0m \u001b[0;32mor\u001b[0m \u001b[0msite_info\u001b[0m\u001b[0;34m[\u001b[0m\u001b[0mmax_index\u001b[0m\u001b[0;34m]\u001b[0m\u001b[0;34m==\u001b[0m\u001b[0;36m0\u001b[0m \u001b[0;34m:\u001b[0m\u001b[0;34m\u001b[0m\u001b[0;34m\u001b[0m\u001b[0m\n",
      "\u001b[0;31mIndexError\u001b[0m: boolean index did not match indexed array along dimension 0; dimension is 11 but corresponding boolean dimension is 10"
     ]
    }
   ],
   "source": [
    "# author=cxf\n",
    "# date=2020-8-8\n",
    "\"\"\"\n",
    "    file for setting the optimal cutoff for each sample according to the criterion\n",
    "    1.after filtering error rate less than 0.02 (1/5 of 0.1)\n",
    "    2.after filtering the number of genotyped sites is the largest and record the number\n",
    "    (check among points where the error rate less than 0.02)\n",
    "\"\"\"\n",
    "\n",
    "import numpy as np\n",
    "\n",
    "i = '../../0.prepare_processing/run2/error.txt'\n",
    "name = i.split('.')[0]\n",
    "data4 = []\n",
    "error = []\n",
    "name_list=[]\n",
    "with open(i, 'r') as fx3:\n",
    "    for line in fx3.readlines():\n",
    "        each_sample_name = np.array(line[0:-1].split(','))[0]\n",
    "        each_sample = np.array(line[0:-1].split(','))[1:].astype('float')\n",
    "        error.append(each_sample)\n",
    "        name_list.append(each_sample_name)\n",
    "error = np.array(error)\n",
    "\n",
    "i = '../../0.prepare_processing/run2/a90.txt'\n",
    "name = i.split('.')[0]\n",
    "sites = []\n",
    "with open(i, 'r') as fx3:\n",
    "    for line in fx3.readlines():\n",
    "        each_sample_name = np.array(line[0:-1].split(','))[0]\n",
    "        each_sample = np.array(line[0:-1].split(','))[1:].astype('int32')\n",
    "        sites.append(each_sample)\n",
    "sites = np.array(sites)\n",
    "\n",
    "f = open(f\"90_result.txt\", \"a+\")\n",
    "print('sample','precise', 'max_cutoff', 'max_num', 'error_rate',sep=',', file=f)\n",
    "for i in range(error.shape[0]):\n",
    "    site_info = sites[i]\n",
    "    error_info = error[i]\n",
    "    site_info[error_info > 0.02] = 0\n",
    "    max_index = np.argmax(site_info)\n",
    "    if error_info[max_index] >= 0.02 or site_info[max_index]==0 :\n",
    "        error_info[error_info == 0] =1\n",
    "        error_rate=error_info[np.argmin(error_info)]\n",
    "    else:\n",
    "        error_rate=error_info[max_index]\n",
    "    print(name_list[i],90, max_index, np.max(site_info), error_rate, sep=',', file=f)\n",
    "f.close()\n",
    "\n",
    "\n"
   ]
  },
  {
   "cell_type": "code",
   "execution_count": 2,
   "metadata": {},
   "outputs": [
    {
     "name": "stdout",
     "output_type": "stream",
     "text": [
      "              precise  max_cutoff  max_num  error_rate\n",
      "sample                                                \n",
      "sample1180-1       90           1     1045    0.004718\n",
      "sample1180-2       90           1      842    0.010546\n",
      "sample1180-3       90           1      989    0.004469\n",
      "sample1182-1       90           1     1010    0.002547\n",
      "sample1182-2       90           1     1023    0.002941\n",
      "...               ...         ...      ...         ...\n",
      "samplePA           90           1     1025    0.002814\n",
      "samplePB           90           1     1031    0.001297\n",
      "samplePC           90           1      984    0.003347\n",
      "samplePD           90           1     1014    0.001843\n",
      "samplePE           90           1     1014    0.001789\n",
      "\n",
      "[111 rows x 4 columns]\n",
      "       precise  max_cutoff      max_num  error_rate\n",
      "count    111.0  111.000000   111.000000  111.000000\n",
      "mean      90.0    1.045045   743.324324    0.007080\n",
      "std        0.0    0.755433   378.110113    0.005423\n",
      "min       90.0    0.000000     0.000000    0.000000\n",
      "25%       90.0    1.000000   355.500000    0.002604\n",
      "50%       90.0    1.000000   948.000000    0.005765\n",
      "75%       90.0    1.000000  1044.500000    0.011396\n",
      "max       90.0    6.000000  1102.000000    0.022809\n"
     ]
    }
   ],
   "source": [
    "# take a look \n",
    "# to tell you where each output comes from we leave a copy where it generates.\n",
    "# you may see the max error rate exceeds the criterion which means the least error rate after 1-10 cutoff is here\n",
    "# and we will discard this sample before following training.\n",
    "# the cause of the high least error rate may be the contaimination or something else which brings in some errors \n",
    "# can not be erased by UMI or removing low RNCU reads.\n",
    "import pandas as pd \n",
    "df=pd.read_csv('90_result.txt',index_col=0)\n",
    "print(df)\n",
    "print(df.describe())"
   ]
  },
  {
   "cell_type": "code",
   "execution_count": null,
   "metadata": {},
   "outputs": [],
   "source": []
  }
 ],
 "metadata": {
  "kernelspec": {
   "display_name": "Python 3",
   "language": "python",
   "name": "python3"
  },
  "language_info": {
   "codemirror_mode": {
    "name": "ipython",
    "version": 3
   },
   "file_extension": ".py",
   "mimetype": "text/x-python",
   "name": "python",
   "nbconvert_exporter": "python",
   "pygments_lexer": "ipython3",
   "version": "3.6.10"
  }
 },
 "nbformat": 4,
 "nbformat_minor": 2
}
