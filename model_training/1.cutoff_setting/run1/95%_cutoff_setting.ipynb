{
 "cells": [
  {
   "cell_type": "code",
   "execution_count": 1,
   "metadata": {},
   "outputs": [],
   "source": [
    "# author=cxf\n",
    "# date=2020-8-8\n",
    "\"\"\"\n",
    "    file for setting the optimal cutoff for each sample according to the criterion\n",
    "    1.after filtering error rate less than 0.01 (1/5 of 0.05)\n",
    "    2.after filtering the number of genotyped sites is the largest and record the number\n",
    "    (check among points where the error rate less than 0.01)\n",
    "\"\"\"\n",
    "\n",
    "import numpy as np\n",
    "\n",
    "i = '../../0.prepare_processing/run1/error.txt'\n",
    "name = i.split('.')[0]\n",
    "data4 = []\n",
    "error = []\n",
    "name_list=[]\n",
    "with open(i, 'r') as fx3:\n",
    "    for line in fx3.readlines():\n",
    "        each_sample_name = np.array(line[0:-1].split(','))[0]\n",
    "        each_sample = np.array(line[0:-1].split(','))[1:].astype('float')\n",
    "        error.append(each_sample)\n",
    "        name_list.append(each_sample_name)\n",
    "error = np.array(error)\n",
    "\n",
    "i = '../../0.prepare_processing/run1/a95.txt'\n",
    "name = i.split('.')[0]\n",
    "sites = []\n",
    "with open(i, 'r') as fx3:\n",
    "    for line in fx3.readlines():\n",
    "        each_sample_name = np.array(line[0:-1].split(','))[0]\n",
    "        each_sample = np.array(line[0:-1].split(','))[1:].astype('int32')\n",
    "        sites.append(each_sample)\n",
    "sites = np.array(sites)\n",
    "\n",
    "f = open(f\"95_result.txt\", \"a+\")\n",
    "print('sample','precise', 'max_cutoff', 'max_num', 'error_rate',sep=',', file=f)\n",
    "for i in range(error.shape[0]):\n",
    "    site_info = sites[i]\n",
    "    error_info = error[i]\n",
    "    site_info[error_info > 0.01] = 0\n",
    "    max_index = np.argmax(site_info)\n",
    "    if error_info[max_index] >= 0.01 or site_info[max_index]==0 :\n",
    "        error_info[error_info == 0] =1\n",
    "        error_rate=error_info[np.argmin(error_info)]\n",
    "    else:\n",
    "        error_rate=error_info[max_index]\n",
    "    print(name_list[i],95, max_index, np.max(site_info), error_rate, sep=',', file=f)\n",
    "f.close()\n",
    "\n",
    "\n"
   ]
  },
  {
   "cell_type": "code",
   "execution_count": 2,
   "metadata": {},
   "outputs": [
    {
     "name": "stdout",
     "output_type": "stream",
     "text": [
      "           precise  max_cutoff  max_num  error_rate\n",
      "sample                                             \n",
      "sample107       95           1      828    0.001893\n",
      "sample105       95           1      903    0.001320\n",
      "sample103       95           1      893    0.001222\n",
      "sample108       95           1      903    0.001091\n",
      "sample106       95           1      941    0.001302\n",
      "...            ...         ...      ...         ...\n",
      "sample91        95           1      924    0.006985\n",
      "sample95        95           1      922    0.004996\n",
      "sample97        95           1      888    0.001601\n",
      "sample98        95           1      952    0.000988\n",
      "sample99        95           1      867    0.003564\n",
      "\n",
      "[192 rows x 4 columns]\n",
      "       precise  max_cutoff      max_num  error_rate\n",
      "count    192.0  192.000000   192.000000  192.000000\n",
      "mean      95.0    1.447917   670.489583    0.004432\n",
      "std        0.0    0.676761   302.014319    0.011849\n",
      "min       95.0    0.000000     0.000000    0.000312\n",
      "25%       95.0    1.000000   481.750000    0.001554\n",
      "50%       95.0    1.000000   804.000000    0.002543\n",
      "75%       95.0    2.000000   895.500000    0.004836\n",
      "max       95.0    4.000000  1010.000000    0.150000\n"
     ]
    }
   ],
   "source": [
    "# take a look \n",
    "# to tell you where each output comes from we leave a copy where it generates.\n",
    "# you may see the max error rate exceeds the criterion which means the least error rate after 1-10 cutoff is here\n",
    "# and we will discard this sample before following training.\n",
    "# the cause of the high least error rate may be the contaimination or something else which brings in some errors \n",
    "# can not be erased by UMI or removing low RNCU reads.\n",
    "import pandas as pd \n",
    "df=pd.read_csv('95_result.txt',index_col=0)\n",
    "print(df)\n",
    "print(df.describe())"
   ]
  },
  {
   "cell_type": "code",
   "execution_count": null,
   "metadata": {},
   "outputs": [],
   "source": []
  }
 ],
 "metadata": {
  "kernelspec": {
   "display_name": "Python 3",
   "language": "python",
   "name": "python3"
  },
  "language_info": {
   "codemirror_mode": {
    "name": "ipython",
    "version": 3
   },
   "file_extension": ".py",
   "mimetype": "text/x-python",
   "name": "python",
   "nbconvert_exporter": "python",
   "pygments_lexer": "ipython3",
   "version": "3.6.10"
  }
 },
 "nbformat": 4,
 "nbformat_minor": 2
}
