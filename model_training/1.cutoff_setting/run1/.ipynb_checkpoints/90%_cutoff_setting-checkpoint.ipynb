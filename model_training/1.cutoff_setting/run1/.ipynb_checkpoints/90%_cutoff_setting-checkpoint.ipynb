{
 "cells": [
  {
   "cell_type": "code",
   "execution_count": 1,
   "metadata": {},
   "outputs": [],
   "source": [
    "# author=cxf\n",
    "# date=2020-8-8\n",
    "\"\"\"\n",
    "    file for setting the optimal cutoff for each sample according to the criterion\n",
    "    1.after filtering error rate less than 0.02 (1/5 of 0.1)\n",
    "    2.after filtering the number of genotyped sites is the largest and record the number\n",
    "    (check among points where the error rate less than 0.02)\n",
    "\"\"\"\n",
    "\n",
    "import numpy as np\n",
    "\n",
    "i = '../../0.prepare_processing/run1/error.txt'\n",
    "name = i.split('.')[0]\n",
    "data4 = []\n",
    "error = []\n",
    "name_list=[]\n",
    "with open(i, 'r') as fx3:\n",
    "    for line in fx3.readlines():\n",
    "        each_sample_name = np.array(line[0:-1].split(','))[0]\n",
    "        each_sample = np.array(line[0:-1].split(','))[1:].astype('float')\n",
    "        error.append(each_sample)\n",
    "        name_list.append(each_sample_name)\n",
    "error = np.array(error)\n",
    "\n",
    "i = '../../0.prepare_processing/run1/a90.txt'\n",
    "name = i.split('.')[0]\n",
    "sites = []\n",
    "with open(i, 'r') as fx3:\n",
    "    for line in fx3.readlines():\n",
    "        each_sample_name = np.array(line[0:-1].split(','))[0]\n",
    "        each_sample = np.array(line[0:-1].split(','))[1:].astype('int32')\n",
    "        sites.append(each_sample)\n",
    "sites = np.array(sites)\n",
    "\n",
    "f = open(f\"90_result.txt\", \"a+\")\n",
    "print('sample','precise', 'max_cutoff', 'max_num', 'error_rate',sep=',', file=f)\n",
    "for i in range(error.shape[0]):\n",
    "    site_info = sites[i]\n",
    "    error_info = error[i]\n",
    "    site_info[error_info > 0.02] = 0\n",
    "    max_index = np.argmax(site_info)\n",
    "    if error_info[max_index] >= 0.02 or site_info[max_index]==0 :\n",
    "        error_info[error_info == 0] =1\n",
    "        error_rate=error_info[np.argmin(error_info)]\n",
    "    else:\n",
    "        error_rate=error_info[max_index]\n",
    "    print(name_list[i],90, max_index, np.max(site_info), error_rate, sep=',', file=f)\n",
    "f.close()\n",
    "\n",
    "\n"
   ]
  },
  {
   "cell_type": "code",
   "execution_count": 2,
   "metadata": {},
   "outputs": [
    {
     "name": "stdout",
     "output_type": "stream",
     "text": [
      "          precise max_cutoff max_num  error_rate\n",
      "sample                                          \n",
      "sample107      90          1    1022  0.00189316\n",
      "sample105      90          1    1060  0.00131983\n",
      "sample103      90          0    1036  0.01916956\n",
      "sample108      90          0    1045  0.01847126\n",
      "sample106      90          0    1059  0.01828488\n",
      "...           ...        ...     ...         ...\n",
      "sample91       90          1    1063  0.00698522\n",
      "sample95       90          1    1050  0.00499598\n",
      "sample97       90          1    1038  0.00160065\n",
      "sample98       90          1    1063  0.00098763\n",
      "sample99       90          2    1028  0.00084038\n",
      "\n",
      "[578 rows x 4 columns]\n",
      "       precise max_cutoff max_num error_rate\n",
      "count      578        578     578        578\n",
      "unique       2          7     148        192\n",
      "top         90          1    1063        0.0\n",
      "freq       576        399      12          6\n"
     ]
    }
   ],
   "source": [
    "# take a look \n",
    "# to tell you where each output comes from we leave a copy where it generates.\n",
    "# you may see the max error rate exceeds the criterion which means the least error rate after 1-10 cutoff is here\n",
    "# and we will discard this sample before following training.\n",
    "# the cause of the high least error rate may be the contaimination or something else which brings in some errors \n",
    "# can not be erased by UMI or removing low RNCU reads.\n",
    "import pandas as pd \n",
    "df=pd.read_csv('90_result.txt',index_col=0)\n",
    "print(df)\n",
    "print(df.describe())"
   ]
  },
  {
   "cell_type": "code",
   "execution_count": null,
   "metadata": {},
   "outputs": [],
   "source": []
  }
 ],
 "metadata": {
  "kernelspec": {
   "display_name": "Python 3",
   "language": "python",
   "name": "python3"
  },
  "language_info": {
   "codemirror_mode": {
    "name": "ipython",
    "version": 3
   },
   "file_extension": ".py",
   "mimetype": "text/x-python",
   "name": "python",
   "nbconvert_exporter": "python",
   "pygments_lexer": "ipython3",
   "version": "3.6.10"
  }
 },
 "nbformat": 4,
 "nbformat_minor": 2
}
